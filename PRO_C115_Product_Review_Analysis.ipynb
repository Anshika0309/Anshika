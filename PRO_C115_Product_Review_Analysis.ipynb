{
  "nbformat": 4,
  "nbformat_minor": 0,
  "metadata": {
    "colab": {
      "provenance": [],
      "include_colab_link": true
    },
    "kernelspec": {
      "name": "python3",
      "display_name": "Python 3"
    },
    "language_info": {
      "name": "python"
    }
  },
  "cells": [
    {
      "cell_type": "markdown",
      "metadata": {
        "id": "view-in-github",
        "colab_type": "text"
      },
      "source": [
        "<a href=\"https://colab.research.google.com/github/Anshika0309/Anshika/blob/main/PRO_C115_Product_Review_Analysis.ipynb\" target=\"_parent\"><img src=\"https://colab.research.google.com/assets/colab-badge.svg\" alt=\"Open In Colab\"/></a>"
      ]
    },
    {
      "cell_type": "code",
      "execution_count": 1,
      "metadata": {
        "id": "d7N4aM_hjgcP",
        "outputId": "46300e68-b612-4822-cece-37b88998e903",
        "colab": {
          "base_uri": "https://localhost:8080/"
        }
      },
      "outputs": [
        {
          "output_type": "stream",
          "name": "stdout",
          "text": [
            "Cloning into 'product_dataset'...\n",
            "remote: Enumerating objects: 11, done.\u001b[K\n",
            "remote: Counting objects: 100% (11/11), done.\u001b[K\n",
            "remote: Compressing objects: 100% (10/10), done.\u001b[K\n",
            "remote: Total 11 (delta 0), reused 0 (delta 0), pack-reused 0\u001b[K\n",
            "Receiving objects: 100% (11/11), 3.08 MiB | 13.30 MiB/s, done.\n"
          ]
        }
      ],
      "source": [
        "# Load the dataset from Github repository\n",
        "!git clone https://github.com/procodingclass/product_dataset.git"
      ]
    },
    {
      "cell_type": "code",
      "source": [
        "# Make a dataframe using the 'pandas' module\n",
        "import pandas as pd\n",
        "dataframe = pd.read_excel('/content/product_dataset/updated_product_dataset.xlsx')\n",
        "print(dataframe.head())"
      ],
      "metadata": {
        "colab": {
          "base_uri": "https://localhost:8080/"
        },
        "id": "24_dygOdjn85",
        "outputId": "ef14fa28-be24-40e1-91f8-4cb01d8e54fc"
      },
      "execution_count": 2,
      "outputs": [
        {
          "output_type": "stream",
          "name": "stdout",
          "text": [
            "    Emotion                                               Text\n",
            "0  Positive  close approximation red octane mat bought one ...\n",
            "1   Neutral  little lumpy mat great foam padding itâ€™s use...\n",
            "2  Positive  great pad love ddr not want metal pad get work...\n",
            "3  Positive  excellent pad great product highly responsive ...\n",
            "4  Positive  awesome great ddr pad works perfectly pc stepm...\n"
          ]
        }
      ]
    },
    {
      "cell_type": "code",
      "source": [
        "# Get unique emotions from the 'Emotion' column in the Dataset\n",
        "dataframe[\"Emotion\"].unique()"
      ],
      "metadata": {
        "colab": {
          "base_uri": "https://localhost:8080/"
        },
        "id": "_cPBbAnZjoFG",
        "outputId": "fe03b2b0-8339-4502-ac9d-0fed7995acac"
      },
      "execution_count": 3,
      "outputs": [
        {
          "output_type": "execute_result",
          "data": {
            "text/plain": [
              "array(['Positive', 'Neutral', 'Negative'], dtype=object)"
            ]
          },
          "metadata": {},
          "execution_count": 3
        }
      ]
    },
    {
      "cell_type": "code",
      "source": [
        "# Add Labels to the dataset\n",
        "encode_emotions = {\"Neutral\": 0, \"Positive\": 1, \"Negative\": 2}"
      ],
      "metadata": {
        "id": "DEqHajRXjoLg"
      },
      "execution_count": 4,
      "outputs": []
    },
    {
      "cell_type": "code",
      "source": [
        "# replace the emotions with the Label\n",
        "dataframe.replace(encode_emotions, inplace = True)\n",
        "dataframe.head()"
      ],
      "metadata": {
        "colab": {
          "base_uri": "https://localhost:8080/",
          "height": 206
        },
        "id": "s2QkNY6IkUo2",
        "outputId": "c4dd75fb-fd3b-478a-f59e-60b756c1edaf"
      },
      "execution_count": 5,
      "outputs": [
        {
          "output_type": "execute_result",
          "data": {
            "text/plain": [
              "   Emotion                                               Text\n",
              "0        1  close approximation red octane mat bought one ...\n",
              "1        0  little lumpy mat great foam padding itâ€™s use...\n",
              "2        1  great pad love ddr not want metal pad get work...\n",
              "3        1  excellent pad great product highly responsive ...\n",
              "4        1  awesome great ddr pad works perfectly pc stepm..."
            ],
            "text/html": [
              "\n",
              "  <div id=\"df-a3122c2f-c4ed-4135-8f41-dfae45aadf7c\" class=\"colab-df-container\">\n",
              "    <div>\n",
              "<style scoped>\n",
              "    .dataframe tbody tr th:only-of-type {\n",
              "        vertical-align: middle;\n",
              "    }\n",
              "\n",
              "    .dataframe tbody tr th {\n",
              "        vertical-align: top;\n",
              "    }\n",
              "\n",
              "    .dataframe thead th {\n",
              "        text-align: right;\n",
              "    }\n",
              "</style>\n",
              "<table border=\"1\" class=\"dataframe\">\n",
              "  <thead>\n",
              "    <tr style=\"text-align: right;\">\n",
              "      <th></th>\n",
              "      <th>Emotion</th>\n",
              "      <th>Text</th>\n",
              "    </tr>\n",
              "  </thead>\n",
              "  <tbody>\n",
              "    <tr>\n",
              "      <th>0</th>\n",
              "      <td>1</td>\n",
              "      <td>close approximation red octane mat bought one ...</td>\n",
              "    </tr>\n",
              "    <tr>\n",
              "      <th>1</th>\n",
              "      <td>0</td>\n",
              "      <td>little lumpy mat great foam padding itâ€™s use...</td>\n",
              "    </tr>\n",
              "    <tr>\n",
              "      <th>2</th>\n",
              "      <td>1</td>\n",
              "      <td>great pad love ddr not want metal pad get work...</td>\n",
              "    </tr>\n",
              "    <tr>\n",
              "      <th>3</th>\n",
              "      <td>1</td>\n",
              "      <td>excellent pad great product highly responsive ...</td>\n",
              "    </tr>\n",
              "    <tr>\n",
              "      <th>4</th>\n",
              "      <td>1</td>\n",
              "      <td>awesome great ddr pad works perfectly pc stepm...</td>\n",
              "    </tr>\n",
              "  </tbody>\n",
              "</table>\n",
              "</div>\n",
              "    <div class=\"colab-df-buttons\">\n",
              "\n",
              "  <div class=\"colab-df-container\">\n",
              "    <button class=\"colab-df-convert\" onclick=\"convertToInteractive('df-a3122c2f-c4ed-4135-8f41-dfae45aadf7c')\"\n",
              "            title=\"Convert this dataframe to an interactive table.\"\n",
              "            style=\"display:none;\">\n",
              "\n",
              "  <svg xmlns=\"http://www.w3.org/2000/svg\" height=\"24px\" viewBox=\"0 -960 960 960\">\n",
              "    <path d=\"M120-120v-720h720v720H120Zm60-500h600v-160H180v160Zm220 220h160v-160H400v160Zm0 220h160v-160H400v160ZM180-400h160v-160H180v160Zm440 0h160v-160H620v160ZM180-180h160v-160H180v160Zm440 0h160v-160H620v160Z\"/>\n",
              "  </svg>\n",
              "    </button>\n",
              "\n",
              "  <style>\n",
              "    .colab-df-container {\n",
              "      display:flex;\n",
              "      gap: 12px;\n",
              "    }\n",
              "\n",
              "    .colab-df-convert {\n",
              "      background-color: #E8F0FE;\n",
              "      border: none;\n",
              "      border-radius: 50%;\n",
              "      cursor: pointer;\n",
              "      display: none;\n",
              "      fill: #1967D2;\n",
              "      height: 32px;\n",
              "      padding: 0 0 0 0;\n",
              "      width: 32px;\n",
              "    }\n",
              "\n",
              "    .colab-df-convert:hover {\n",
              "      background-color: #E2EBFA;\n",
              "      box-shadow: 0px 1px 2px rgba(60, 64, 67, 0.3), 0px 1px 3px 1px rgba(60, 64, 67, 0.15);\n",
              "      fill: #174EA6;\n",
              "    }\n",
              "\n",
              "    .colab-df-buttons div {\n",
              "      margin-bottom: 4px;\n",
              "    }\n",
              "\n",
              "    [theme=dark] .colab-df-convert {\n",
              "      background-color: #3B4455;\n",
              "      fill: #D2E3FC;\n",
              "    }\n",
              "\n",
              "    [theme=dark] .colab-df-convert:hover {\n",
              "      background-color: #434B5C;\n",
              "      box-shadow: 0px 1px 3px 1px rgba(0, 0, 0, 0.15);\n",
              "      filter: drop-shadow(0px 1px 2px rgba(0, 0, 0, 0.3));\n",
              "      fill: #FFFFFF;\n",
              "    }\n",
              "  </style>\n",
              "\n",
              "    <script>\n",
              "      const buttonEl =\n",
              "        document.querySelector('#df-a3122c2f-c4ed-4135-8f41-dfae45aadf7c button.colab-df-convert');\n",
              "      buttonEl.style.display =\n",
              "        google.colab.kernel.accessAllowed ? 'block' : 'none';\n",
              "\n",
              "      async function convertToInteractive(key) {\n",
              "        const element = document.querySelector('#df-a3122c2f-c4ed-4135-8f41-dfae45aadf7c');\n",
              "        const dataTable =\n",
              "          await google.colab.kernel.invokeFunction('convertToInteractive',\n",
              "                                                    [key], {});\n",
              "        if (!dataTable) return;\n",
              "\n",
              "        const docLinkHtml = 'Like what you see? Visit the ' +\n",
              "          '<a target=\"_blank\" href=https://colab.research.google.com/notebooks/data_table.ipynb>data table notebook</a>'\n",
              "          + ' to learn more about interactive tables.';\n",
              "        element.innerHTML = '';\n",
              "        dataTable['output_type'] = 'display_data';\n",
              "        await google.colab.output.renderOutput(dataTable, element);\n",
              "        const docLink = document.createElement('div');\n",
              "        docLink.innerHTML = docLinkHtml;\n",
              "        element.appendChild(docLink);\n",
              "      }\n",
              "    </script>\n",
              "  </div>\n",
              "\n",
              "\n",
              "<div id=\"df-3d5026bf-4855-4300-b035-ba2ca8589934\">\n",
              "  <button class=\"colab-df-quickchart\" onclick=\"quickchart('df-3d5026bf-4855-4300-b035-ba2ca8589934')\"\n",
              "            title=\"Suggest charts\"\n",
              "            style=\"display:none;\">\n",
              "\n",
              "<svg xmlns=\"http://www.w3.org/2000/svg\" height=\"24px\"viewBox=\"0 0 24 24\"\n",
              "     width=\"24px\">\n",
              "    <g>\n",
              "        <path d=\"M19 3H5c-1.1 0-2 .9-2 2v14c0 1.1.9 2 2 2h14c1.1 0 2-.9 2-2V5c0-1.1-.9-2-2-2zM9 17H7v-7h2v7zm4 0h-2V7h2v10zm4 0h-2v-4h2v4z\"/>\n",
              "    </g>\n",
              "</svg>\n",
              "  </button>\n",
              "\n",
              "<style>\n",
              "  .colab-df-quickchart {\n",
              "      --bg-color: #E8F0FE;\n",
              "      --fill-color: #1967D2;\n",
              "      --hover-bg-color: #E2EBFA;\n",
              "      --hover-fill-color: #174EA6;\n",
              "      --disabled-fill-color: #AAA;\n",
              "      --disabled-bg-color: #DDD;\n",
              "  }\n",
              "\n",
              "  [theme=dark] .colab-df-quickchart {\n",
              "      --bg-color: #3B4455;\n",
              "      --fill-color: #D2E3FC;\n",
              "      --hover-bg-color: #434B5C;\n",
              "      --hover-fill-color: #FFFFFF;\n",
              "      --disabled-bg-color: #3B4455;\n",
              "      --disabled-fill-color: #666;\n",
              "  }\n",
              "\n",
              "  .colab-df-quickchart {\n",
              "    background-color: var(--bg-color);\n",
              "    border: none;\n",
              "    border-radius: 50%;\n",
              "    cursor: pointer;\n",
              "    display: none;\n",
              "    fill: var(--fill-color);\n",
              "    height: 32px;\n",
              "    padding: 0;\n",
              "    width: 32px;\n",
              "  }\n",
              "\n",
              "  .colab-df-quickchart:hover {\n",
              "    background-color: var(--hover-bg-color);\n",
              "    box-shadow: 0 1px 2px rgba(60, 64, 67, 0.3), 0 1px 3px 1px rgba(60, 64, 67, 0.15);\n",
              "    fill: var(--button-hover-fill-color);\n",
              "  }\n",
              "\n",
              "  .colab-df-quickchart-complete:disabled,\n",
              "  .colab-df-quickchart-complete:disabled:hover {\n",
              "    background-color: var(--disabled-bg-color);\n",
              "    fill: var(--disabled-fill-color);\n",
              "    box-shadow: none;\n",
              "  }\n",
              "\n",
              "  .colab-df-spinner {\n",
              "    border: 2px solid var(--fill-color);\n",
              "    border-color: transparent;\n",
              "    border-bottom-color: var(--fill-color);\n",
              "    animation:\n",
              "      spin 1s steps(1) infinite;\n",
              "  }\n",
              "\n",
              "  @keyframes spin {\n",
              "    0% {\n",
              "      border-color: transparent;\n",
              "      border-bottom-color: var(--fill-color);\n",
              "      border-left-color: var(--fill-color);\n",
              "    }\n",
              "    20% {\n",
              "      border-color: transparent;\n",
              "      border-left-color: var(--fill-color);\n",
              "      border-top-color: var(--fill-color);\n",
              "    }\n",
              "    30% {\n",
              "      border-color: transparent;\n",
              "      border-left-color: var(--fill-color);\n",
              "      border-top-color: var(--fill-color);\n",
              "      border-right-color: var(--fill-color);\n",
              "    }\n",
              "    40% {\n",
              "      border-color: transparent;\n",
              "      border-right-color: var(--fill-color);\n",
              "      border-top-color: var(--fill-color);\n",
              "    }\n",
              "    60% {\n",
              "      border-color: transparent;\n",
              "      border-right-color: var(--fill-color);\n",
              "    }\n",
              "    80% {\n",
              "      border-color: transparent;\n",
              "      border-right-color: var(--fill-color);\n",
              "      border-bottom-color: var(--fill-color);\n",
              "    }\n",
              "    90% {\n",
              "      border-color: transparent;\n",
              "      border-bottom-color: var(--fill-color);\n",
              "    }\n",
              "  }\n",
              "</style>\n",
              "\n",
              "  <script>\n",
              "    async function quickchart(key) {\n",
              "      const quickchartButtonEl =\n",
              "        document.querySelector('#' + key + ' button');\n",
              "      quickchartButtonEl.disabled = true;  // To prevent multiple clicks.\n",
              "      quickchartButtonEl.classList.add('colab-df-spinner');\n",
              "      try {\n",
              "        const charts = await google.colab.kernel.invokeFunction(\n",
              "            'suggestCharts', [key], {});\n",
              "      } catch (error) {\n",
              "        console.error('Error during call to suggestCharts:', error);\n",
              "      }\n",
              "      quickchartButtonEl.classList.remove('colab-df-spinner');\n",
              "      quickchartButtonEl.classList.add('colab-df-quickchart-complete');\n",
              "    }\n",
              "    (() => {\n",
              "      let quickchartButtonEl =\n",
              "        document.querySelector('#df-3d5026bf-4855-4300-b035-ba2ca8589934 button');\n",
              "      quickchartButtonEl.style.display =\n",
              "        google.colab.kernel.accessAllowed ? 'block' : 'none';\n",
              "    })();\n",
              "  </script>\n",
              "</div>\n",
              "\n",
              "    </div>\n",
              "  </div>\n"
            ]
          },
          "metadata": {},
          "execution_count": 5
        }
      ]
    },
    {
      "cell_type": "code",
      "source": [
        "# Convert the dataframe into list for easy processing\n",
        "training_sentences = []\n",
        "training_labels = []\n",
        "\n",
        "for i in range(len(dataframe)):\n",
        "  sentence = dataframe.loc[i, \"Text\"]\n",
        "  training_sentences.append(sentence)\n",
        "  label = dataframe.loc[i, \"Emotion\"]\n",
        "  training_labels.append(label)\n",
        "\n",
        "# printing 10th element\n",
        "training_sentences[10], training_labels[10]\n"
      ],
      "metadata": {
        "colab": {
          "base_uri": "https://localhost:8080/"
        },
        "id": "4dgZbZLkjoR3",
        "outputId": "eeaaab66-9ca4-41d5-9a7b-7f98b2bbf0f1"
      },
      "execution_count": 6,
      "outputs": [
        {
          "output_type": "execute_result",
          "data": {
            "text/plain": [
              "('arrived early included blank case wont able test game get switch tried brothers device recognized card smash digital download already arrived ahead schedule well packed even blank case wasnt expectingread full review',\n",
              " 1)"
            ]
          },
          "metadata": {},
          "execution_count": 6
        }
      ]
    },
    {
      "cell_type": "code",
      "source": [
        "# Tokenize and pad your data\n",
        "import tensorflow as tf\n",
        "\n",
        "from tensorflow.keras.preprocessing.text import Tokenizer\n",
        "from tensorflow.keras.preprocessing.sequence import pad_sequences\n",
        "\n",
        "vocab_size = 10000\n",
        "embedding_dim = 16\n",
        "max_length = 100\n",
        "trunc_type='post'\n",
        "padding_type='post'\n",
        "oov_tok = \"<OOV>\"\n",
        "training_size = 20000\n",
        "\n",
        "tokenizer = Tokenizer(num_words=vocab_size, oov_token=oov_tok)\n",
        "tokenizer.fit_on_texts(training_sentences)\n",
        "\n",
        "word_index = tokenizer.word_index\n",
        "\n",
        "training_sequences = tokenizer.texts_to_sequences(training_sentences)\n",
        "training_padded = pad_sequences(training_sequences, maxlen=max_length, padding=padding_type, truncating=trunc_type)"
      ],
      "metadata": {
        "id": "dEi4WBgwjoXG"
      },
      "execution_count": 7,
      "outputs": []
    },
    {
      "cell_type": "code",
      "metadata": {
        "id": "Rxay06YyEKi6"
      },
      "source": [
        "# Converting to numpy array\n",
        "import numpy as np\n",
        "\n",
        "training_padded = np.array(training_padded)\n",
        "training_labels = np.array(training_labels)"
      ],
      "execution_count": 8,
      "outputs": []
    },
    {
      "cell_type": "code",
      "source": [
        "# import the necessary modules from tensorflow\n",
        "from tensorflow.keras.models import Sequential\n",
        "from tensorflow.keras.layers import Embedding, LSTM, Dense\n",
        "from tensorflow.keras.layers import Conv1D, MaxPooling1D, Dropout\n",
        "\n",
        "\n",
        "# Create the model\n",
        "model = tf.keras.Sequential([\n",
        "    Embedding(vocab_size, embedding_dim, input_length=max_length),\n",
        "    Dropout(0.2),\n",
        "    Conv1D(filters = 256, kernel_size=3, activation = \"relu\"),\n",
        "    MaxPooling1D(pool_size=3),\n",
        "    Conv1D(filters = 128, kernel_size=3, activation = \"relu\"),\n",
        "    MaxPooling1D(pool_size=3),\n",
        "\n",
        "    LSTM(128),\n",
        "    Dense(128, activation = \"relu\"),\n",
        "    Dropout(0.2),\n",
        "    Dense(64, activation = \"relu\"),\n",
        "    Dense(6, activation = \"softmax\")\n",
        "\n",
        "\n",
        "\n",
        "])\n",
        "\n",
        "# Compile the model\n",
        "model.compile(loss='sparse_categorical_crossentropy', optimizer = 'adam', metrics = ['accuracy'])"
      ],
      "metadata": {
        "id": "O-Gw8pbuuphB"
      },
      "execution_count": 16,
      "outputs": []
    },
    {
      "cell_type": "code",
      "source": [
        "model.summary()"
      ],
      "metadata": {
        "id": "u5-2dpo9uqEL",
        "outputId": "e56feec3-5462-4982-e27e-f53d7d8487e2",
        "colab": {
          "base_uri": "https://localhost:8080/"
        }
      },
      "execution_count": 18,
      "outputs": [
        {
          "output_type": "stream",
          "name": "stdout",
          "text": [
            "Model: \"sequential_6\"\n",
            "_________________________________________________________________\n",
            " Layer (type)                Output Shape              Param #   \n",
            "=================================================================\n",
            " embedding_6 (Embedding)     (None, 100, 16)           160000    \n",
            "                                                                 \n",
            " dropout_12 (Dropout)        (None, 100, 16)           0         \n",
            "                                                                 \n",
            " conv1d_12 (Conv1D)          (None, 98, 256)           12544     \n",
            "                                                                 \n",
            " max_pooling1d_12 (MaxPooli  (None, 32, 256)           0         \n",
            " ng1D)                                                           \n",
            "                                                                 \n",
            " conv1d_13 (Conv1D)          (None, 30, 128)           98432     \n",
            "                                                                 \n",
            " max_pooling1d_13 (MaxPooli  (None, 10, 128)           0         \n",
            " ng1D)                                                           \n",
            "                                                                 \n",
            " lstm_6 (LSTM)               (None, 128)               131584    \n",
            "                                                                 \n",
            " dense_18 (Dense)            (None, 128)               16512     \n",
            "                                                                 \n",
            " dropout_13 (Dropout)        (None, 128)               0         \n",
            "                                                                 \n",
            " dense_19 (Dense)            (None, 64)                8256      \n",
            "                                                                 \n",
            " dense_20 (Dense)            (None, 6)                 390       \n",
            "                                                                 \n",
            "=================================================================\n",
            "Total params: 427718 (1.63 MB)\n",
            "Trainable params: 427718 (1.63 MB)\n",
            "Non-trainable params: 0 (0.00 Byte)\n",
            "_________________________________________________________________\n"
          ]
        }
      ]
    },
    {
      "cell_type": "code",
      "source": [
        "number_epochs = 30\n",
        "history = model.fit(training_padded,training_labels,epochs=number_epochs,verbose=2)"
      ],
      "metadata": {
        "id": "m1eOJ8odup9i",
        "outputId": "25946ec7-a60c-449d-cc4c-6c8b2c5beca4",
        "colab": {
          "base_uri": "https://localhost:8080/"
        }
      },
      "execution_count": 17,
      "outputs": [
        {
          "output_type": "stream",
          "name": "stdout",
          "text": [
            "Epoch 1/30\n",
            "671/671 - 42s - loss: 0.3086 - accuracy: 0.9227 - 42s/epoch - 62ms/step\n",
            "Epoch 2/30\n",
            "671/671 - 34s - loss: 0.1729 - accuracy: 0.9448 - 34s/epoch - 50ms/step\n",
            "Epoch 3/30\n",
            "671/671 - 32s - loss: 0.1335 - accuracy: 0.9547 - 32s/epoch - 48ms/step\n",
            "Epoch 4/30\n",
            "671/671 - 32s - loss: 0.1081 - accuracy: 0.9618 - 32s/epoch - 48ms/step\n",
            "Epoch 5/30\n",
            "671/671 - 33s - loss: 0.0925 - accuracy: 0.9670 - 33s/epoch - 49ms/step\n",
            "Epoch 6/30\n",
            "671/671 - 31s - loss: 0.0776 - accuracy: 0.9716 - 31s/epoch - 47ms/step\n",
            "Epoch 7/30\n",
            "671/671 - 31s - loss: 0.0674 - accuracy: 0.9759 - 31s/epoch - 47ms/step\n",
            "Epoch 8/30\n",
            "671/671 - 35s - loss: 0.0571 - accuracy: 0.9808 - 35s/epoch - 52ms/step\n",
            "Epoch 9/30\n",
            "671/671 - 32s - loss: 0.0511 - accuracy: 0.9827 - 32s/epoch - 47ms/step\n",
            "Epoch 10/30\n",
            "671/671 - 33s - loss: 0.0489 - accuracy: 0.9834 - 33s/epoch - 50ms/step\n",
            "Epoch 11/30\n",
            "671/671 - 31s - loss: 0.0435 - accuracy: 0.9859 - 31s/epoch - 47ms/step\n",
            "Epoch 12/30\n",
            "671/671 - 32s - loss: 0.0399 - accuracy: 0.9876 - 32s/epoch - 47ms/step\n",
            "Epoch 13/30\n",
            "671/671 - 33s - loss: 0.0381 - accuracy: 0.9875 - 33s/epoch - 49ms/step\n",
            "Epoch 14/30\n",
            "671/671 - 31s - loss: 0.0362 - accuracy: 0.9886 - 31s/epoch - 47ms/step\n",
            "Epoch 15/30\n",
            "671/671 - 32s - loss: 0.0331 - accuracy: 0.9892 - 32s/epoch - 47ms/step\n",
            "Epoch 16/30\n",
            "671/671 - 33s - loss: 0.0293 - accuracy: 0.9911 - 33s/epoch - 49ms/step\n",
            "Epoch 17/30\n",
            "671/671 - 32s - loss: 0.0294 - accuracy: 0.9914 - 32s/epoch - 47ms/step\n",
            "Epoch 18/30\n",
            "671/671 - 32s - loss: 0.0283 - accuracy: 0.9921 - 32s/epoch - 47ms/step\n",
            "Epoch 19/30\n",
            "671/671 - 32s - loss: 0.0249 - accuracy: 0.9917 - 32s/epoch - 48ms/step\n",
            "Epoch 20/30\n",
            "671/671 - 32s - loss: 0.0240 - accuracy: 0.9923 - 32s/epoch - 48ms/step\n",
            "Epoch 21/30\n",
            "671/671 - 31s - loss: 0.0228 - accuracy: 0.9929 - 31s/epoch - 47ms/step\n",
            "Epoch 22/30\n",
            "671/671 - 33s - loss: 0.0218 - accuracy: 0.9931 - 33s/epoch - 49ms/step\n",
            "Epoch 23/30\n",
            "671/671 - 32s - loss: 0.0230 - accuracy: 0.9925 - 32s/epoch - 48ms/step\n",
            "Epoch 24/30\n",
            "671/671 - 32s - loss: 0.0219 - accuracy: 0.9931 - 32s/epoch - 47ms/step\n",
            "Epoch 25/30\n",
            "671/671 - 34s - loss: 0.0205 - accuracy: 0.9934 - 34s/epoch - 51ms/step\n",
            "Epoch 26/30\n",
            "671/671 - 31s - loss: 0.0181 - accuracy: 0.9944 - 31s/epoch - 47ms/step\n",
            "Epoch 27/30\n",
            "671/671 - 32s - loss: 0.0180 - accuracy: 0.9941 - 32s/epoch - 48ms/step\n",
            "Epoch 28/30\n",
            "671/671 - 33s - loss: 0.0155 - accuracy: 0.9950 - 33s/epoch - 50ms/step\n",
            "Epoch 29/30\n",
            "671/671 - 32s - loss: 0.0164 - accuracy: 0.9946 - 32s/epoch - 47ms/step\n",
            "Epoch 30/30\n",
            "671/671 - 32s - loss: 0.0166 - accuracy: 0.9945 - 32s/epoch - 47ms/step\n"
          ]
        }
      ]
    },
    {
      "cell_type": "code",
      "source": [
        "# Save your Model\n",
        "model.save(\"Project115.h5\")"
      ],
      "metadata": {
        "id": "7Vv7qs9puqKP",
        "outputId": "eeca9a9d-8aa6-4ddb-c348-e9909969b770",
        "colab": {
          "base_uri": "https://localhost:8080/"
        }
      },
      "execution_count": 19,
      "outputs": [
        {
          "output_type": "stream",
          "name": "stderr",
          "text": [
            "/usr/local/lib/python3.10/dist-packages/keras/src/engine/training.py:3103: UserWarning: You are saving your model as an HDF5 file via `model.save()`. This file format is considered legacy. We recommend using instead the native Keras format, e.g. `model.save('my_model.keras')`.\n",
            "  saving_api.save_model(\n"
          ]
        }
      ]
    },
    {
      "cell_type": "code",
      "source": [
        "sentence = [\"I am happy to meet my friends. We are planning to go to a party\",\"I had a bad day at school. I got hurt while playing footlball\"]\n",
        "sequences = tokenizer.texts_to_sequences(sentence)\n",
        "padded = pad_sequences(sequences,maxlen = max_length,padding = padding_type,truncating = trunc_type)\n",
        "result = model.predict(padded)\n",
        "print(result)\n",
        "label = np.argmax(result, axis = 1)\n",
        "label=int(label[0])\n",
        "print(label)\n",
        "# encode_emotions = {\"Neutral\": 0, \"Positive\":1, \"Negative\":2}\n",
        "for emotion in encode_emotions:\n",
        "  if encode_emotions[emotion]==label:\n",
        "    print(f\"sentiment:{emotion}, label : {label}\")\n"
      ],
      "metadata": {
        "id": "XRLp6H5FuzT-",
        "outputId": "04caf962-2a23-4e55-be3b-13a2169cb051",
        "colab": {
          "base_uri": "https://localhost:8080/"
        }
      },
      "execution_count": 28,
      "outputs": [
        {
          "output_type": "stream",
          "name": "stdout",
          "text": [
            "1/1 [==============================] - 0s 26ms/step\n",
            "[[3.5886288e-07 9.9999893e-01 7.7470406e-07 0.0000000e+00 0.0000000e+00\n",
            "  0.0000000e+00]\n",
            " [7.9422182e-01 1.2192096e-01 8.3857201e-02 5.0902921e-10 3.2139849e-10\n",
            "  7.6022399e-10]]\n",
            "1\n",
            "sentiment:Positive, label : 1\n"
          ]
        }
      ]
    }
  ]
}